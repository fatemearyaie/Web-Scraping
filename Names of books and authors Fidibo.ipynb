{
 "cells": [
  {
   "cell_type": "markdown",
   "id": "8c9f36bc",
   "metadata": {},
   "source": [
    "# First Web Scraping Project Using BeautifulSoup "
   ]
  },
  {
   "cell_type": "markdown",
   "id": "a5f07f68",
   "metadata": {},
   "source": [
    "This project is my first scraping project using 'BeautifulSoup' to scrap <a> https://fidibo.com/ </a> website, a websie for reading books to get books and authers name for begining meybe I develope it later when I became a junior :)"
   ]
  },
  {
   "cell_type": "markdown",
   "id": "f6212297",
   "metadata": {},
   "source": [
    "### first importing Libraries:"
   ]
  },
  {
   "cell_type": "code",
   "execution_count": 1,
   "id": "64158a99",
   "metadata": {},
   "outputs": [],
   "source": [
    "import pandas as pd\n",
    "from bs4 import BeautifulSoup\n",
    "import requests"
   ]
  },
  {
   "cell_type": "markdown",
   "id": "60b48679",
   "metadata": {},
   "source": [
    "### store UL"
   ]
  },
  {
   "cell_type": "code",
   "execution_count": 2,
   "id": "2d6c6261",
   "metadata": {},
   "outputs": [],
   "source": [
    "url = 'https://fidibo.com/category/sales/15790?page=1&keyword=&sorting='"
   ]
  },
  {
   "cell_type": "markdown",
   "id": "adf93cec",
   "metadata": {},
   "source": [
    "### request to website"
   ]
  },
  {
   "cell_type": "code",
   "execution_count": 3,
   "id": "ae1f29b8",
   "metadata": {},
   "outputs": [],
   "source": [
    "response  = requests.get(url)"
   ]
  },
  {
   "cell_type": "markdown",
   "id": "2f55f394",
   "metadata": {},
   "source": [
    "#### get response status"
   ]
  },
  {
   "cell_type": "code",
   "execution_count": 4,
   "id": "26b5c774",
   "metadata": {
    "scrolled": false
   },
   "outputs": [
    {
     "data": {
      "text/plain": [
       "200"
      ]
     },
     "execution_count": 4,
     "metadata": {},
     "output_type": "execute_result"
    }
   ],
   "source": [
    "response.status_code"
   ]
  },
  {
   "cell_type": "markdown",
   "id": "64950010",
   "metadata": {},
   "source": [
    "### build a BeautifulSoup Object"
   ]
  },
  {
   "cell_type": "code",
   "execution_count": 5,
   "id": "96f301b5",
   "metadata": {},
   "outputs": [],
   "source": [
    "bs = BeautifulSoup(response.content, 'html.parser')"
   ]
  },
  {
   "cell_type": "markdown",
   "id": "8b275d37",
   "metadata": {},
   "source": [
    "### getting the section we want to scrap"
   ]
  },
  {
   "cell_type": "code",
   "execution_count": 42,
   "id": "b17ca87b",
   "metadata": {},
   "outputs": [],
   "source": [
    "bookssec = bs.find('div', attrs={'class':'row item-list'})"
   ]
  },
  {
   "cell_type": "markdown",
   "id": "b6f42a51",
   "metadata": {},
   "source": [
    "### getting the data"
   ]
  },
  {
   "cell_type": "code",
   "execution_count": 87,
   "id": "40b92463",
   "metadata": {},
   "outputs": [],
   "source": [
    "title = bookssec.find_all('span', attrs={'class':'title-book'})\n",
    "author = bookssec.find_all('span', attrs={'class':'author'})"
   ]
  },
  {
   "cell_type": "code",
   "execution_count": 45,
   "id": "969d1db1",
   "metadata": {
    "scrolled": true
   },
   "outputs": [
    {
     "data": {
      "text/plain": [
       "30"
      ]
     },
     "execution_count": 45,
     "metadata": {},
     "output_type": "execute_result"
    }
   ],
   "source": [
    "len(title)"
   ]
  },
  {
   "cell_type": "markdown",
   "id": "13c928a9",
   "metadata": {},
   "source": [
    "### append 1 page we scraped into seprated lists"
   ]
  },
  {
   "cell_type": "code",
   "execution_count": 46,
   "id": "33134e65",
   "metadata": {},
   "outputs": [],
   "source": [
    "listname = []\n",
    "listauthor = []"
   ]
  },
  {
   "cell_type": "code",
   "execution_count": 47,
   "id": "4083aaa3",
   "metadata": {},
   "outputs": [],
   "source": [
    "for i in range(0,30):\n",
    "    listname.append(title[i].find('a').get_text())\n",
    "    listauthor.append(author[i].get_text())"
   ]
  },
  {
   "cell_type": "markdown",
   "id": "125fc0e9",
   "metadata": {},
   "source": [
    "### create a DataFrame From what we stored in our lists"
   ]
  },
  {
   "cell_type": "code",
   "execution_count": 48,
   "id": "a748d56b",
   "metadata": {},
   "outputs": [],
   "source": [
    "df = pd.DataFrame(list(zip(listname,listauthor)), columns=['name', 'author'])"
   ]
  },
  {
   "cell_type": "code",
   "execution_count": 49,
   "id": "79db70e7",
   "metadata": {
    "scrolled": false
   },
   "outputs": [
    {
     "data": {
      "text/html": [
       "<div>\n",
       "<style scoped>\n",
       "    .dataframe tbody tr th:only-of-type {\n",
       "        vertical-align: middle;\n",
       "    }\n",
       "\n",
       "    .dataframe tbody tr th {\n",
       "        vertical-align: top;\n",
       "    }\n",
       "\n",
       "    .dataframe thead th {\n",
       "        text-align: right;\n",
       "    }\n",
       "</style>\n",
       "<table border=\"1\" class=\"dataframe\">\n",
       "  <thead>\n",
       "    <tr style=\"text-align: right;\">\n",
       "      <th></th>\n",
       "      <th>name</th>\n",
       "      <th>author</th>\n",
       "    </tr>\n",
       "  </thead>\n",
       "  <tbody>\n",
       "    <tr>\n",
       "      <th>0</th>\n",
       "      <td>کتاب خون‌مردگی</td>\n",
       "      <td>الهام فلاح</td>\n",
       "    </tr>\n",
       "    <tr>\n",
       "      <th>1</th>\n",
       "      <td>کتاب خاکستر و خاک کتاب‌های قفسه‌ی آبی - ۱۴۲</td>\n",
       "      <td>عتیق رحیمی</td>\n",
       "    </tr>\n",
       "    <tr>\n",
       "      <th>2</th>\n",
       "      <td>کتاب جیرجیرک کتاب‌های قفسه‌ی آبی - ۲۰</td>\n",
       "      <td>احمد غلامی</td>\n",
       "    </tr>\n",
       "    <tr>\n",
       "      <th>3</th>\n",
       "      <td>کتاب جای خالی مار مجموعه داستان</td>\n",
       "      <td>احسان نصرتی</td>\n",
       "    </tr>\n",
       "    <tr>\n",
       "      <th>4</th>\n",
       "      <td>کتاب بر اُستخوان‌های مردگان</td>\n",
       "      <td>اُلگا توکارچوک</td>\n",
       "    </tr>\n",
       "    <tr>\n",
       "      <th>5</th>\n",
       "      <td>کتاب تو هیچ گپ نزن</td>\n",
       "      <td>محمدحسین محمدی</td>\n",
       "    </tr>\n",
       "    <tr>\n",
       "      <th>6</th>\n",
       "      <td>کتاب برفِ محض مجموعه داستان</td>\n",
       "      <td>معین فرخی</td>\n",
       "    </tr>\n",
       "    <tr>\n",
       "      <th>7</th>\n",
       "      <td>کتاب ایستگاه بعدی مجموعه داستان</td>\n",
       "      <td>نیما قهرمانی</td>\n",
       "    </tr>\n",
       "    <tr>\n",
       "      <th>8</th>\n",
       "      <td>کتاب جرمِ زمانه‌ساز</td>\n",
       "      <td>آرش آذرپناه</td>\n",
       "    </tr>\n",
       "    <tr>\n",
       "      <th>9</th>\n",
       "      <td>کتاب درآمدی بر مطالعات سینمایی</td>\n",
       "      <td>اد سیکوف</td>\n",
       "    </tr>\n",
       "    <tr>\n",
       "      <th>10</th>\n",
       "      <td>کتاب این هیولا تو را دوست دارد</td>\n",
       "      <td>لیلی مجیدی</td>\n",
       "    </tr>\n",
       "    <tr>\n",
       "      <th>11</th>\n",
       "      <td>کتاب فریدریش و عصر رمانتیسیسمِ آلمانی</td>\n",
       "      <td>ساباین ریوالد</td>\n",
       "    </tr>\n",
       "    <tr>\n",
       "      <th>12</th>\n",
       "      <td>کتاب اَز یاد رَفتَن</td>\n",
       "      <td>کسپر مُنراد</td>\n",
       "    </tr>\n",
       "    <tr>\n",
       "      <th>13</th>\n",
       "      <td>کتاب تهران‌،دنیا، تمام‌وقت</td>\n",
       "      <td>لیندا سیگل</td>\n",
       "    </tr>\n",
       "    <tr>\n",
       "      <th>14</th>\n",
       "      <td>کتاب آذر، شهدخت، پرویز و دیگران</td>\n",
       "      <td>مُحمَدحُسین مُحمَدی</td>\n",
       "    </tr>\n",
       "    <tr>\n",
       "      <th>15</th>\n",
       "      <td>کتاب طناب‌کشی</td>\n",
       "      <td>حسین یعقوبی</td>\n",
       "    </tr>\n",
       "    <tr>\n",
       "      <th>16</th>\n",
       "      <td>کتاب درک فیلم کانون - ۷</td>\n",
       "      <td>مرجان شیرمحمدی</td>\n",
       "    </tr>\n",
       "    <tr>\n",
       "      <th>17</th>\n",
       "      <td>کتاب سرو سفید یا حافظِ ناصر</td>\n",
       "      <td>مجید قیصری</td>\n",
       "    </tr>\n",
       "    <tr>\n",
       "      <th>18</th>\n",
       "      <td>کتاب حماسه شناخت‌نامه‌ی‌ حماسه‌های‌ ...</td>\n",
       "      <td>الن کیسبی‌یر</td>\n",
       "    </tr>\n",
       "    <tr>\n",
       "      <th>19</th>\n",
       "      <td>کتاب سقاها</td>\n",
       "      <td>ناصر قلمکاری</td>\n",
       "    </tr>\n",
       "    <tr>\n",
       "      <th>20</th>\n",
       "      <td>کتاب شاه  ۱۲۹۸  تهران، ۱۳۵۰  شیراز</td>\n",
       "      <td>فروغ اولاد</td>\n",
       "    </tr>\n",
       "    <tr>\n",
       "      <th>21</th>\n",
       "      <td>کتاب آخرین زنبورعسل</td>\n",
       "      <td>عتیق رحیمی</td>\n",
       "    </tr>\n",
       "    <tr>\n",
       "      <th>22</th>\n",
       "      <td>کتاب انقلابِ زیست‌بومی صلح با کره‌ی زمین</td>\n",
       "      <td>حنانه سلطانی</td>\n",
       "    </tr>\n",
       "    <tr>\n",
       "      <th>23</th>\n",
       "      <td>کتاب پنجاه درجه بالای صفری</td>\n",
       "      <td>برِِن مک‌دیبل</td>\n",
       "    </tr>\n",
       "    <tr>\n",
       "      <th>24</th>\n",
       "      <td>کتاب معبد لاک‌پشت</td>\n",
       "      <td>جان بلامی فاستر</td>\n",
       "    </tr>\n",
       "    <tr>\n",
       "      <th>25</th>\n",
       "      <td>کتاب یادت نرود که...</td>\n",
       "      <td>علی چنگيزی</td>\n",
       "    </tr>\n",
       "    <tr>\n",
       "      <th>26</th>\n",
       "      <td>کتاب فرهنگنامۀ داستان‌های متون فارسی (جلد ...</td>\n",
       "      <td>میترا معینی</td>\n",
       "    </tr>\n",
       "    <tr>\n",
       "      <th>27</th>\n",
       "      <td>کتاب وارونه کردن هرم  تاریخ تاکتیک‌های ...</td>\n",
       "      <td>یاسمن خلیلی‌فرد</td>\n",
       "    </tr>\n",
       "    <tr>\n",
       "      <th>28</th>\n",
       "      <td>کتاب قطعه‌ی نایاب برای تعمیر ریش‌تراش</td>\n",
       "      <td>حسن ذوالفقاری</td>\n",
       "    </tr>\n",
       "    <tr>\n",
       "      <th>29</th>\n",
       "      <td>کتاب وارونگی</td>\n",
       "      <td>محمد پارسانسب</td>\n",
       "    </tr>\n",
       "  </tbody>\n",
       "</table>\n",
       "</div>"
      ],
      "text/plain": [
       "                                              name               author\n",
       "0                                  کتاب خون‌مردگی            الهام فلاح\n",
       "1     کتاب خاکستر و خاک کتاب‌های قفسه‌ی آبی - ۱۴۲            عتیق رحیمی\n",
       "2           کتاب جیرجیرک کتاب‌های قفسه‌ی آبی - ۲۰            احمد غلامی\n",
       "3                 کتاب جای خالی مار مجموعه داستان           احسان نصرتی\n",
       "4                     کتاب بر اُستخوان‌های مردگان        اُلگا توکارچوک\n",
       "5                              کتاب تو هیچ گپ نزن        محمدحسین محمدی\n",
       "6                     کتاب برفِ محض مجموعه داستان             معین فرخی\n",
       "7                 کتاب ایستگاه بعدی مجموعه داستان          نیما قهرمانی\n",
       "8                             کتاب جرمِ زمانه‌ساز           آرش آذرپناه\n",
       "9                  کتاب درآمدی بر مطالعات سینمایی              اد سیکوف\n",
       "10                 کتاب این هیولا تو را دوست دارد            لیلی مجیدی\n",
       "11          کتاب فریدریش و عصر رمانتیسیسمِ آلمانی         ساباین ریوالد\n",
       "12                            کتاب اَز یاد رَفتَن           کسپر مُنراد\n",
       "13                     کتاب تهران‌،دنیا، تمام‌وقت            لیندا سیگل\n",
       "14                کتاب آذر، شهدخت، پرویز و دیگران   مُحمَدحُسین مُحمَدی\n",
       "15                                  کتاب طناب‌کشی           حسین یعقوبی\n",
       "16                        کتاب درک فیلم کانون - ۷        مرجان شیرمحمدی\n",
       "17                    کتاب سرو سفید یا حافظِ ناصر            مجید قیصری\n",
       "18        کتاب حماسه شناخت‌نامه‌ی‌ حماسه‌های‌ ...          الن کیسبی‌یر\n",
       "19                                     کتاب سقاها          ناصر قلمکاری\n",
       "20             کتاب شاه  ۱۲۹۸  تهران، ۱۳۵۰  شیراز            فروغ اولاد\n",
       "21                            کتاب آخرین زنبورعسل            عتیق رحیمی\n",
       "22       کتاب انقلابِ زیست‌بومی صلح با کره‌ی زمین          حنانه سلطانی\n",
       "23                     کتاب پنجاه درجه بالای صفری         برِِن مک‌دیبل\n",
       "24                              کتاب معبد لاک‌پشت       جان بلامی فاستر\n",
       "25                           کتاب یادت نرود که...            علی چنگيزی\n",
       "26  کتاب فرهنگنامۀ داستان‌های متون فارسی (جلد ...           میترا معینی\n",
       "27     کتاب وارونه کردن هرم  تاریخ تاکتیک‌های ...       یاسمن خلیلی‌فرد\n",
       "28          کتاب قطعه‌ی نایاب برای تعمیر ریش‌تراش         حسن ذوالفقاری\n",
       "29                                   کتاب وارونگی         محمد پارسانسب"
      ]
     },
     "execution_count": 49,
     "metadata": {},
     "output_type": "execute_result"
    }
   ],
   "source": [
    "df"
   ]
  },
  {
   "cell_type": "markdown",
   "id": "92e33ce5",
   "metadata": {},
   "source": [
    "So I scraped just one page for practice now I want to get other pages books too"
   ]
  },
  {
   "cell_type": "markdown",
   "id": "80232b2c",
   "metadata": {},
   "source": [
    "# All in All pages"
   ]
  },
  {
   "cell_type": "code",
   "execution_count": 6,
   "id": "30f99729",
   "metadata": {},
   "outputs": [],
   "source": [
    "bs = BeautifulSoup(response.content, 'html.parser')"
   ]
  },
  {
   "cell_type": "code",
   "execution_count": 7,
   "id": "b85898a9",
   "metadata": {},
   "outputs": [],
   "source": [
    "bookssection = bs.find('div', attrs={'class':'row item-list'})"
   ]
  },
  {
   "cell_type": "markdown",
   "id": "abbc1f22",
   "metadata": {},
   "source": [
    "### find other pages url"
   ]
  },
  {
   "cell_type": "code",
   "execution_count": 8,
   "id": "8b1cc136",
   "metadata": {},
   "outputs": [
    {
     "data": {
      "text/plain": [
       "[<a class=\"current\">۱</a>,\n",
       " <a href=\"/category/sales/15790?&amp;keyword=&amp;sorting=page=2\">۲</a>,\n",
       " <a href=\"/category/sales/15790?&amp;keyword=&amp;sorting=page=3\">۳</a>,\n",
       " <a href=\"/category/sales/15790?&amp;keyword=&amp;sorting=page=4\">۴</a>,\n",
       " <a href=\"/category/sales/15790?&amp;keyword=&amp;sorting=page=5\">۵</a>,\n",
       " <a href=\"/category/sales/15790?&amp;keyword=&amp;sorting=page=30\">۳۰</a>,\n",
       " <a href=\"/category/sales/15790?&amp;keyword=&amp;sorting=page=31\">۳۱</a>,\n",
       " <a href=\"/category/sales/15790?&amp;keyword=&amp;sorting=page=2\">بعدی ›</a>,\n",
       " <a href=\"/category/sales/15790?&amp;keyword=&amp;sorting=page=31\">آخرین ››</a>]"
      ]
     },
     "execution_count": 8,
     "metadata": {},
     "output_type": "execute_result"
    }
   ],
   "source": [
    "bs.find('ul', attrs={'class':'pagination'}).find_all('a')"
   ]
  },
  {
   "cell_type": "code",
   "execution_count": 9,
   "id": "c2de14fc",
   "metadata": {
    "scrolled": false
   },
   "outputs": [
    {
     "name": "stdout",
     "output_type": "stream",
     "text": [
      "https://fidibo.com/category/sales/15790?page=1&keyword=&sorting=1\n",
      "https://fidibo.com//category/sales/15790?&keyword=&sorting=page=2\n",
      "https://fidibo.com//category/sales/15790?&keyword=&sorting=page=3\n",
      "https://fidibo.com//category/sales/15790?&keyword=&sorting=page=4\n",
      "https://fidibo.com//category/sales/15790?&keyword=&sorting=page=5\n",
      "https://fidibo.com//category/sales/15790?&keyword=&sorting=page=30\n",
      "https://fidibo.com//category/sales/15790?&keyword=&sorting=page=31\n",
      "https://fidibo.com//category/sales/15790?&keyword=&sorting=page=2\n",
      "https://fidibo.com//category/sales/15790?&keyword=&sorting=page=31\n"
     ]
    }
   ],
   "source": [
    "for o in bs.find('ul', attrs={'class':'pagination'}).find_all('a'):\n",
    "    if str(o.get('href')) == 'None':\n",
    "        print('https://fidibo.com/category/sales/15790?page=1&keyword=&sorting=1')\n",
    "    else:\n",
    "        print('https://fidibo.com/' + str(o.get('href')))"
   ]
  },
  {
   "cell_type": "markdown",
   "id": "a9ec8b1d",
   "metadata": {},
   "source": [
    "### find the last page"
   ]
  },
  {
   "cell_type": "code",
   "execution_count": 10,
   "id": "1326d550",
   "metadata": {},
   "outputs": [],
   "source": [
    "lastpage = int(bs.find('ul', attrs={'class':'pagination'}).find_all('a')[-1]['href'].split('=')[-1])"
   ]
  },
  {
   "cell_type": "code",
   "execution_count": 11,
   "id": "25cb4545",
   "metadata": {},
   "outputs": [
    {
     "data": {
      "text/plain": [
       "int"
      ]
     },
     "execution_count": 11,
     "metadata": {},
     "output_type": "execute_result"
    }
   ],
   "source": [
    "type(lastpage)"
   ]
  },
  {
   "cell_type": "markdown",
   "id": "20521453",
   "metadata": {},
   "source": [
    "### append all we scraped from 31 pages into seprated lists"
   ]
  },
  {
   "cell_type": "code",
   "execution_count": 12,
   "id": "0478ee32",
   "metadata": {},
   "outputs": [],
   "source": [
    "book_title = []\n",
    "book_author = []"
   ]
  },
  {
   "cell_type": "code",
   "execution_count": 14,
   "id": "74553b60",
   "metadata": {},
   "outputs": [],
   "source": [
    "for p in range(1, lastpage + 1):\n",
    "    url = 'https://fidibo.com/category/sales/15790?page=1&keyword=&sorting={}'.format(p)\n",
    "    response  = requests.get(url)\n",
    "    bs = BeautifulSoup(response.content, 'html.parser')\n",
    "    bookssection = bs.find('div', attrs={'class':'row item-list'})\n",
    "    title = bookssection.find_all('span', attrs={'class':'title-book'})\n",
    "    author = bookssection.find_all('span', attrs={'class':'author'})\n",
    "    for i in range(0,len(title)):\n",
    "        book_title.append(title[i].find('a').get_text())\n",
    "        book_author.append(author[i].get_text())"
   ]
  },
  {
   "cell_type": "markdown",
   "id": "f01cff97",
   "metadata": {},
   "source": [
    "### create dataframe from what we scraped from 31 pages"
   ]
  },
  {
   "cell_type": "code",
   "execution_count": 15,
   "id": "84ddf678",
   "metadata": {},
   "outputs": [],
   "source": [
    "df = pd.DataFrame(list(zip(book_title,book_author)), columns=['book_title', 'book_author'])"
   ]
  },
  {
   "cell_type": "code",
   "execution_count": 16,
   "id": "78f597f5",
   "metadata": {
    "scrolled": true
   },
   "outputs": [
    {
     "data": {
      "text/html": [
       "<div>\n",
       "<style scoped>\n",
       "    .dataframe tbody tr th:only-of-type {\n",
       "        vertical-align: middle;\n",
       "    }\n",
       "\n",
       "    .dataframe tbody tr th {\n",
       "        vertical-align: top;\n",
       "    }\n",
       "\n",
       "    .dataframe thead th {\n",
       "        text-align: right;\n",
       "    }\n",
       "</style>\n",
       "<table border=\"1\" class=\"dataframe\">\n",
       "  <thead>\n",
       "    <tr style=\"text-align: right;\">\n",
       "      <th></th>\n",
       "      <th>book_title</th>\n",
       "      <th>book_author</th>\n",
       "    </tr>\n",
       "  </thead>\n",
       "  <tbody>\n",
       "    <tr>\n",
       "      <th>0</th>\n",
       "      <td>کتاب خون‌مردگی</td>\n",
       "      <td>الهام فلاح</td>\n",
       "    </tr>\n",
       "    <tr>\n",
       "      <th>1</th>\n",
       "      <td>کتاب خاکستر و خاک کتاب‌های قفسه‌ی آبی - ۱۴۲</td>\n",
       "      <td>عتیق رحیمی</td>\n",
       "    </tr>\n",
       "    <tr>\n",
       "      <th>2</th>\n",
       "      <td>کتاب جیرجیرک کتاب‌های قفسه‌ی آبی - ۲۰</td>\n",
       "      <td>احمد غلامی</td>\n",
       "    </tr>\n",
       "    <tr>\n",
       "      <th>3</th>\n",
       "      <td>کتاب جای خالی مار مجموعه داستان</td>\n",
       "      <td>احسان نصرتی</td>\n",
       "    </tr>\n",
       "    <tr>\n",
       "      <th>4</th>\n",
       "      <td>کتاب بر اُستخوان‌های مردگان</td>\n",
       "      <td>اُلگا توکارچوک</td>\n",
       "    </tr>\n",
       "    <tr>\n",
       "      <th>...</th>\n",
       "      <td>...</td>\n",
       "      <td>...</td>\n",
       "    </tr>\n",
       "    <tr>\n",
       "      <th>925</th>\n",
       "      <td>کتاب یادت نرود که...</td>\n",
       "      <td>علی چنگيزی</td>\n",
       "    </tr>\n",
       "    <tr>\n",
       "      <th>926</th>\n",
       "      <td>کتاب فرهنگنامۀ داستان‌های متون فارسی (جلد ...</td>\n",
       "      <td>میترا معینی</td>\n",
       "    </tr>\n",
       "    <tr>\n",
       "      <th>927</th>\n",
       "      <td>کتاب وارونه کردن هرم  تاریخ تاکتیک‌های ...</td>\n",
       "      <td>یاسمن خلیلی‌فرد</td>\n",
       "    </tr>\n",
       "    <tr>\n",
       "      <th>928</th>\n",
       "      <td>کتاب قطعه‌ی نایاب برای تعمیر ریش‌تراش</td>\n",
       "      <td>حسن ذوالفقاری</td>\n",
       "    </tr>\n",
       "    <tr>\n",
       "      <th>929</th>\n",
       "      <td>کتاب وارونگی</td>\n",
       "      <td>محمد پارسانسب</td>\n",
       "    </tr>\n",
       "  </tbody>\n",
       "</table>\n",
       "<p>930 rows × 2 columns</p>\n",
       "</div>"
      ],
      "text/plain": [
       "                                         book_title      book_author\n",
       "0                                   کتاب خون‌مردگی        الهام فلاح\n",
       "1      کتاب خاکستر و خاک کتاب‌های قفسه‌ی آبی - ۱۴۲        عتیق رحیمی\n",
       "2            کتاب جیرجیرک کتاب‌های قفسه‌ی آبی - ۲۰        احمد غلامی\n",
       "3                  کتاب جای خالی مار مجموعه داستان       احسان نصرتی\n",
       "4                      کتاب بر اُستخوان‌های مردگان    اُلگا توکارچوک\n",
       "..                                              ...              ...\n",
       "925                           کتاب یادت نرود که...        علی چنگيزی\n",
       "926  کتاب فرهنگنامۀ داستان‌های متون فارسی (جلد ...       میترا معینی\n",
       "927     کتاب وارونه کردن هرم  تاریخ تاکتیک‌های ...   یاسمن خلیلی‌فرد\n",
       "928          کتاب قطعه‌ی نایاب برای تعمیر ریش‌تراش     حسن ذوالفقاری\n",
       "929                                   کتاب وارونگی     محمد پارسانسب\n",
       "\n",
       "[930 rows x 2 columns]"
      ]
     },
     "execution_count": 16,
     "metadata": {},
     "output_type": "execute_result"
    }
   ],
   "source": [
    "df"
   ]
  },
  {
   "cell_type": "code",
   "execution_count": 17,
   "id": "880a22f8",
   "metadata": {
    "scrolled": true
   },
   "outputs": [
    {
     "data": {
      "text/plain": [
       "(930, 2)"
      ]
     },
     "execution_count": 17,
     "metadata": {},
     "output_type": "execute_result"
    }
   ],
   "source": [
    "df.shape"
   ]
  }
 ],
 "metadata": {
  "kernelspec": {
   "display_name": "Python 3 (ipykernel)",
   "language": "python",
   "name": "python3"
  },
  "language_info": {
   "codemirror_mode": {
    "name": "ipython",
    "version": 3
   },
   "file_extension": ".py",
   "mimetype": "text/x-python",
   "name": "python",
   "nbconvert_exporter": "python",
   "pygments_lexer": "ipython3",
   "version": "3.9.7"
  }
 },
 "nbformat": 4,
 "nbformat_minor": 5
}
