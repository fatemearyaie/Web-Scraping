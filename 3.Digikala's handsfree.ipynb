{
 "cells": [
  {
   "cell_type": "markdown",
   "id": "a99200bc",
   "metadata": {},
   "source": [
    "# Digikala's headphones scrapping"
   ]
  },
  {
   "cell_type": "markdown",
   "id": "616ffb65",
   "metadata": {},
   "source": [
    "scraping project using 'Selenium' to scrap https://www.digikala.com/ website, a websie for ordering stuff. I scrap bluetooth headphones pages which is available on this site. "
   ]
  },
  {
   "cell_type": "markdown",
   "id": "ae3333a4",
   "metadata": {},
   "source": [
    "### import libraries"
   ]
  },
  {
   "cell_type": "code",
   "execution_count": 1,
   "id": "e1963588",
   "metadata": {},
   "outputs": [],
   "source": [
    "from selenium.webdriver.common.keys import Keys\n",
    "import pandas as pd\n",
    "from selenium import webdriver\n",
    "from selenium.webdriver.common.by import By\n",
    "import time\n",
    "from selenium.webdriver.chrome.service import Service\n",
    "from selenium.webdriver.support.ui import WebDriverWait\n",
    "from selenium.webdriver.support import expected_conditions as EC\n",
    "from selenium.webdriver.chrome.options import Options"
   ]
  },
  {
   "cell_type": "markdown",
   "id": "c48ab144",
   "metadata": {},
   "source": [
    "### set start time"
   ]
  },
  {
   "cell_type": "code",
   "execution_count": 13,
   "id": "9e72a6c1",
   "metadata": {},
   "outputs": [],
   "source": [
    "start_time = time.time()"
   ]
  },
  {
   "cell_type": "markdown",
   "id": "2fab5057",
   "metadata": {},
   "source": [
    "## handle Push notification in this site"
   ]
  },
  {
   "cell_type": "markdown",
   "id": "6bbff7ea",
   "metadata": {},
   "source": [
    "### create a Opetion Object and add argument"
   ]
  },
  {
   "cell_type": "code",
   "execution_count": 16,
   "id": "b1737b1f",
   "metadata": {},
   "outputs": [],
   "source": [
    "op = Options()"
   ]
  },
  {
   "cell_type": "code",
   "execution_count": 17,
   "id": "34136d17",
   "metadata": {},
   "outputs": [],
   "source": [
    "op.add_argument(\"--disable-notifications\")"
   ]
  },
  {
   "cell_type": "markdown",
   "id": "ccf370a6",
   "metadata": {},
   "source": [
    "### get chrome driver Location"
   ]
  },
  {
   "cell_type": "code",
   "execution_count": 18,
   "id": "53c69520",
   "metadata": {},
   "outputs": [],
   "source": [
    "s = Service('C:\\\\Users\\\\Fateme\\\\Downloads\\\\chromedriver_win32\\\\chromedriver.exe')"
   ]
  },
  {
   "cell_type": "markdown",
   "id": "56e98bf5",
   "metadata": {},
   "source": [
    "### create driver"
   ]
  },
  {
   "cell_type": "code",
   "execution_count": 25,
   "id": "db36b0ec",
   "metadata": {},
   "outputs": [],
   "source": [
    "driver = webdriver.Chrome(service=s, options= op)"
   ]
  },
  {
   "cell_type": "markdown",
   "id": "b2452ee9",
   "metadata": {},
   "source": [
    "### define url"
   ]
  },
  {
   "cell_type": "code",
   "execution_count": 26,
   "id": "c0f5cc1f",
   "metadata": {},
   "outputs": [],
   "source": [
    "url = 'https://www.digikala.com/'"
   ]
  },
  {
   "cell_type": "markdown",
   "id": "d27a3782",
   "metadata": {},
   "source": [
    "### pass url to driver"
   ]
  },
  {
   "cell_type": "code",
   "execution_count": 27,
   "id": "6aa6d7cb",
   "metadata": {},
   "outputs": [],
   "source": [
    "driver.get(url)"
   ]
  },
  {
   "cell_type": "markdown",
   "id": "39b76785",
   "metadata": {},
   "source": [
    "### maximize window"
   ]
  },
  {
   "cell_type": "code",
   "execution_count": 28,
   "id": "770ffd42",
   "metadata": {},
   "outputs": [],
   "source": [
    "driver.maximize_window()"
   ]
  },
  {
   "cell_type": "markdown",
   "id": "b6cd276e",
   "metadata": {},
   "source": [
    "### click on search area and search the givven phrase"
   ]
  },
  {
   "cell_type": "code",
   "execution_count": 29,
   "id": "23d50045",
   "metadata": {},
   "outputs": [],
   "source": [
    "driver.find_element(By.XPATH, value='//div[@class=\"color-500 d-flex ai-center text-body-2\"]').click()\n",
    "search = driver.find_element(By.XPATH, value=\"//input[@class= 'px-2 TextField_TextField__input__hFMFl text-subtitle w-100 TextField_TextField__bwN9_ TextField_TextField--primary__IZ6Ku color-500 text-body-2 text-body-2']\")\n",
    "search.click()\n",
    "search.send_keys('هندزفری')\n",
    "search.send_keys(Keys.ENTER)"
   ]
  },
  {
   "cell_type": "markdown",
   "id": "7c070cd2",
   "metadata": {},
   "source": [
    "### click on 'Blutooth' option on right pannel"
   ]
  },
  {
   "cell_type": "code",
   "execution_count": 30,
   "id": "bd704924",
   "metadata": {
    "scrolled": true
   },
   "outputs": [],
   "source": [
    "driver.find_element(By.XPATH, value=\"//a[@class='d-flex ai-center jc-between py-3 gap-4 border-b'][1]\").click()"
   ]
  },
  {
   "cell_type": "markdown",
   "id": "e9fbb81b",
   "metadata": {},
   "source": [
    "### click on 'available' button on right pannel"
   ]
  },
  {
   "cell_type": "code",
   "execution_count": 34,
   "id": "61b9df23",
   "metadata": {},
   "outputs": [],
   "source": [
    "exist = driver.find_element(By.XPATH,value=\"html/body/div/div/div/div/div/section[2]/div[2]/div/div/div[7]/div/div[2]/div/div/label[2]/span[2]\")\n",
    "exist.click()"
   ]
  },
  {
   "cell_type": "markdown",
   "id": "3833f425",
   "metadata": {},
   "source": [
    "#### a loop for scrolling the page, get each product's name, stars, price and append it to a new dataframe then go next page and "
   ]
  },
  {
   "cell_type": "code",
   "execution_count": 18,
   "id": "170a170f",
   "metadata": {},
   "outputs": [],
   "source": [
    "data = []"
   ]
  },
  {
   "cell_type": "code",
   "execution_count": 20,
   "id": "e091eed4",
   "metadata": {
    "scrolled": false
   },
   "outputs": [
    {
     "name": "stdout",
     "output_type": "stream",
     "text": [
      "How long does it take to scrape the whole webpage? 2401.254319667816 seconds\n"
     ]
    }
   ],
   "source": [
    "while True:\n",
    "    try:\n",
    "        for i in range(130):\n",
    "            driver.execute_script(\"window.scrollTo(0, document.body.scrollHeight);\")\n",
    "            time.sleep(1)\n",
    "            all_items = driver.find_elements(By.XPATH, value=\".//div[@class='product-list_ProductList__item__LiiNI']\")\n",
    "            for item in all_items:\n",
    "                try:\n",
    "                    name = item.find_element(By.XPATH, value=\".//h3[@class='ellipsis-2 text-body2-strong color-700']\").text\n",
    "                except:\n",
    "                    name = 'None'\n",
    "                try:\n",
    "                    rate = item.find_element(By.XPATH, value=\".//p[@class='text-body2-strong color-700']\").text\n",
    "                except:\n",
    "                    rate = -1\n",
    "                try:\n",
    "                    price = item.find_element(By.XPATH, value=\".//div[@class='d-flex ai-center jc-end gap-1 color-700 color-400 text-h5 grow-1']\").text\n",
    "                except:\n",
    "                    price = -1\n",
    "                data.append([name,rate,price])\n",
    "            \n",
    "            nextpage = driver.find_element(By.XPATH, value='//div[@class=\"font-body  d-flex jc-center ai-center color-primary-700 pointer mr-2 pl-3 flex-row-reverse\"] ')\n",
    "            driver.execute_script(\"arguments[0].click();\", nextpage)\n",
    "            time.sleep(1)\n",
    "    except:\n",
    "        break\n",
    "print('How long does it take to scrape the whole webpage? {} seconds'.format(time.time() - start_time))"
   ]
  },
  {
   "cell_type": "markdown",
   "id": "4a0acf97",
   "metadata": {},
   "source": [
    "### crate a dataframe from what we find in all qualified pages"
   ]
  },
  {
   "cell_type": "code",
   "execution_count": 21,
   "id": "feeead92",
   "metadata": {},
   "outputs": [],
   "source": [
    "df = pd.DataFrame(data, columns=['name', 'rate', 'price'])"
   ]
  },
  {
   "cell_type": "code",
   "execution_count": 22,
   "id": "e40e2d41",
   "metadata": {
    "scrolled": true
   },
   "outputs": [
    {
     "data": {
      "text/html": [
       "<div>\n",
       "<style scoped>\n",
       "    .dataframe tbody tr th:only-of-type {\n",
       "        vertical-align: middle;\n",
       "    }\n",
       "\n",
       "    .dataframe tbody tr th {\n",
       "        vertical-align: top;\n",
       "    }\n",
       "\n",
       "    .dataframe thead th {\n",
       "        text-align: right;\n",
       "    }\n",
       "</style>\n",
       "<table border=\"1\" class=\"dataframe\">\n",
       "  <thead>\n",
       "    <tr style=\"text-align: right;\">\n",
       "      <th></th>\n",
       "      <th>name</th>\n",
       "      <th>rate</th>\n",
       "      <th>price</th>\n",
       "    </tr>\n",
       "  </thead>\n",
       "  <tbody>\n",
       "    <tr>\n",
       "      <th>0</th>\n",
       "      <td>هندزفری بلوتوثی مدل  inpods 12</td>\n",
       "      <td>۳.۹</td>\n",
       "      <td>۱۲۵,۰۰۰</td>\n",
       "    </tr>\n",
       "    <tr>\n",
       "      <th>1</th>\n",
       "      <td>هندزفری بلوتوثی مدل BTH-F9-5</td>\n",
       "      <td>۳.۹</td>\n",
       "      <td>۲۱۹,۸۰۰</td>\n",
       "    </tr>\n",
       "    <tr>\n",
       "      <th>2</th>\n",
       "      <td>هدفون بی سیم مدل InPods Proi</td>\n",
       "      <td>-1</td>\n",
       "      <td>۴۸۵,۰۰۰</td>\n",
       "    </tr>\n",
       "    <tr>\n",
       "      <th>3</th>\n",
       "      <td>هدست بلوتوثی مدل inpods Pro</td>\n",
       "      <td>-1</td>\n",
       "      <td>۴۲۵,۰۰۰</td>\n",
       "    </tr>\n",
       "    <tr>\n",
       "      <th>4</th>\n",
       "      <td>هندزفری بلوتوثی لیتو مدل LT7</td>\n",
       "      <td>۳.۸</td>\n",
       "      <td>۸۹۵,۰۰۰</td>\n",
       "    </tr>\n",
       "    <tr>\n",
       "      <th>...</th>\n",
       "      <td>...</td>\n",
       "      <td>...</td>\n",
       "      <td>...</td>\n",
       "    </tr>\n",
       "    <tr>\n",
       "      <th>3082</th>\n",
       "      <td>هدفون مخصوص بازی بلوتوثی آکی مدل NAS N33 GFT E...</td>\n",
       "      <td>-1</td>\n",
       "      <td>۴,۵۸۹,۰۰۰</td>\n",
       "    </tr>\n",
       "    <tr>\n",
       "      <th>3083</th>\n",
       "      <td>هدست مخصوص بازی بلوتوثی لنوو مدل NAS 40 JHY LP</td>\n",
       "      <td>-1</td>\n",
       "      <td>۱,۳۱۳,۶۴۰</td>\n",
       "    </tr>\n",
       "    <tr>\n",
       "      <th>3084</th>\n",
       "      <td>هدست مخصوص بازی بلوتوثی لنوو مدل SRI 2022 LP5 NEW</td>\n",
       "      <td>-1</td>\n",
       "      <td>۱,۴۱۹,۵۵۰</td>\n",
       "    </tr>\n",
       "    <tr>\n",
       "      <th>3085</th>\n",
       "      <td>هدفون مخصوص بازی بلوتوثی لنوو مدل NAS LP BCB 1...</td>\n",
       "      <td>-1</td>\n",
       "      <td>۱,۳۷۲,۳۸۰</td>\n",
       "    </tr>\n",
       "    <tr>\n",
       "      <th>3086</th>\n",
       "      <td>هدفون مخصوص بازی بلوتوثی لنوو مدل ROK NEW TC02...</td>\n",
       "      <td>-1</td>\n",
       "      <td>۱,۶۸۷,۴۴۰</td>\n",
       "    </tr>\n",
       "  </tbody>\n",
       "</table>\n",
       "<p>3087 rows × 3 columns</p>\n",
       "</div>"
      ],
      "text/plain": [
       "                                                   name rate      price\n",
       "0                        هندزفری بلوتوثی مدل  inpods 12  ۳.۹    ۱۲۵,۰۰۰\n",
       "1                          هندزفری بلوتوثی مدل BTH-F9-5  ۳.۹    ۲۱۹,۸۰۰\n",
       "2                          هدفون بی سیم مدل InPods Proi   -1    ۴۸۵,۰۰۰\n",
       "3                           هدست بلوتوثی مدل inpods Pro   -1    ۴۲۵,۰۰۰\n",
       "4                          هندزفری بلوتوثی لیتو مدل LT7  ۳.۸    ۸۹۵,۰۰۰\n",
       "...                                                 ...  ...        ...\n",
       "3082  هدفون مخصوص بازی بلوتوثی آکی مدل NAS N33 GFT E...   -1  ۴,۵۸۹,۰۰۰\n",
       "3083     هدست مخصوص بازی بلوتوثی لنوو مدل NAS 40 JHY LP   -1  ۱,۳۱۳,۶۴۰\n",
       "3084  هدست مخصوص بازی بلوتوثی لنوو مدل SRI 2022 LP5 NEW   -1  ۱,۴۱۹,۵۵۰\n",
       "3085  هدفون مخصوص بازی بلوتوثی لنوو مدل NAS LP BCB 1...   -1  ۱,۳۷۲,۳۸۰\n",
       "3086  هدفون مخصوص بازی بلوتوثی لنوو مدل ROK NEW TC02...   -1  ۱,۶۸۷,۴۴۰\n",
       "\n",
       "[3087 rows x 3 columns]"
      ]
     },
     "execution_count": 22,
     "metadata": {},
     "output_type": "execute_result"
    }
   ],
   "source": [
    "df"
   ]
  },
  {
   "cell_type": "markdown",
   "id": "720607a8",
   "metadata": {},
   "source": [
    "### Exporting dataframe"
   ]
  },
  {
   "cell_type": "code",
   "execution_count": 23,
   "id": "119ed3aa",
   "metadata": {},
   "outputs": [],
   "source": [
    "df.to_csv('DigikalasHeadphones.csv')"
   ]
  }
 ],
 "metadata": {
  "kernelspec": {
   "display_name": "Python 3 (ipykernel)",
   "language": "python",
   "name": "python3"
  },
  "language_info": {
   "codemirror_mode": {
    "name": "ipython",
    "version": 3
   },
   "file_extension": ".py",
   "mimetype": "text/x-python",
   "name": "python",
   "nbconvert_exporter": "python",
   "pygments_lexer": "ipython3",
   "version": "3.9.7"
  }
 },
 "nbformat": 4,
 "nbformat_minor": 5
}
