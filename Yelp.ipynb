{
 "cells": [
  {
   "cell_type": "markdown",
   "id": "5d1486e4",
   "metadata": {},
   "source": [
    "# Paris's Restuarant name and Rate"
   ]
  },
  {
   "cell_type": "markdown",
   "id": "99e2a263",
   "metadata": {},
   "source": [
    "### import libraries"
   ]
  },
  {
   "cell_type": "code",
   "execution_count": 1,
   "id": "836b54af",
   "metadata": {},
   "outputs": [],
   "source": [
    "import pandas as pd\n",
    "from selenium import webdriver\n",
    "from selenium.webdriver.common.by import By\n",
    "import time\n",
    "from selenium.webdriver.chrome.service import Service\n",
    "from selenium.webdriver.support.ui import WebDriverWait\n",
    "from selenium.webdriver.support import expected_conditions as EC"
   ]
  },
  {
   "cell_type": "markdown",
   "id": "b8e80b4a",
   "metadata": {},
   "source": [
    "### set start time"
   ]
  },
  {
   "cell_type": "code",
   "execution_count": 2,
   "id": "9c10c624",
   "metadata": {},
   "outputs": [],
   "source": [
    "start_time = time.time()"
   ]
  },
  {
   "cell_type": "markdown",
   "id": "de402cec",
   "metadata": {},
   "source": [
    "### define url"
   ]
  },
  {
   "cell_type": "code",
   "execution_count": 3,
   "id": "6f61ee7b",
   "metadata": {},
   "outputs": [],
   "source": [
    "url = 'https://www.yelp.com/'"
   ]
  },
  {
   "cell_type": "markdown",
   "id": "5ea92536",
   "metadata": {},
   "source": [
    "### get chrome driver Location"
   ]
  },
  {
   "cell_type": "code",
   "execution_count": 4,
   "id": "1681f1e0",
   "metadata": {},
   "outputs": [],
   "source": [
    "s = Service('C:\\\\Users\\\\Fateme\\\\Downloads\\\\chromedriver_win32\\\\chromedriver.exe')"
   ]
  },
  {
   "cell_type": "markdown",
   "id": "92f4aade",
   "metadata": {},
   "source": [
    "### build the driver"
   ]
  },
  {
   "cell_type": "code",
   "execution_count": 5,
   "id": "59837d6c",
   "metadata": {},
   "outputs": [],
   "source": [
    "driver = webdriver.Chrome(service=s)"
   ]
  },
  {
   "cell_type": "markdown",
   "id": "8c4d7ea2",
   "metadata": {},
   "source": [
    "### get url by driver"
   ]
  },
  {
   "cell_type": "code",
   "execution_count": 6,
   "id": "2d5eb0ee",
   "metadata": {},
   "outputs": [],
   "source": [
    "driver.get(url)"
   ]
  },
  {
   "cell_type": "markdown",
   "id": "d2da0b83",
   "metadata": {},
   "source": [
    "### serach a word and click on search button to find the phrase's match"
   ]
  },
  {
   "cell_type": "code",
   "execution_count": 7,
   "id": "2644b811",
   "metadata": {},
   "outputs": [],
   "source": [
    "insearch = driver.find_element(By.ID, value='search_description')\n",
    "insearch.click()\n",
    "insearch.send_keys('Restaurants')\n",
    "searchbtn = driver.find_element(By.CLASS_NAME, value='find-near-button__09f24__XS9AP')\n",
    "searchbtn.click()"
   ]
  },
  {
   "cell_type": "markdown",
   "id": "71b53ab4",
   "metadata": {},
   "source": [
    "# One Page:"
   ]
  },
  {
   "cell_type": "markdown",
   "id": "61232720",
   "metadata": {},
   "source": [
    "### get all items in one page"
   ]
  },
  {
   "cell_type": "code",
   "execution_count": 22,
   "id": "50d38ba9",
   "metadata": {},
   "outputs": [],
   "source": [
    "all_items = driver.find_elements(By.CLASS_NAME, value='hoverable__09f24__wQ_on')"
   ]
  },
  {
   "cell_type": "markdown",
   "id": "53f69ddd",
   "metadata": {},
   "source": [
    "### a loop for get each restaurant name, review counts and star"
   ]
  },
  {
   "cell_type": "code",
   "execution_count": 23,
   "id": "795fbb42",
   "metadata": {},
   "outputs": [],
   "source": [
    "data = []"
   ]
  },
  {
   "cell_type": "code",
   "execution_count": 24,
   "id": "4e39c565",
   "metadata": {},
   "outputs": [],
   "source": [
    "for item in all_items:\n",
    "    try:\n",
    "        name = item.find_element(By.XPATH, value=\".//a[@class='css-1m051bw']\").text\n",
    "    except:\n",
    "        name = 'NULL'\n",
    "    try:\n",
    "        reviewcounts = item.find_element(By.XPATH, value=\".//span[@class=' css-chan6m']\").text\n",
    "    except:\n",
    "        reviewcounts = -1\n",
    "    try:\n",
    "        stars = item.find_element(By.XPATH, value = './/div[@class=\" five-stars__09f24__mBKym five-stars--regular__09f24__DgBNj display--inline-block__09f24__fEDiJ  border-color--default__09f24__NPAKY\"]')\n",
    "        stars_number = stars.get_attribute('aria-label').split(' ')[0]\n",
    "    except:\n",
    "        stars_number = -1\n",
    "    data.append([name, reviewcounts, float(stars_number)])"
   ]
  },
  {
   "cell_type": "code",
   "execution_count": 25,
   "id": "7c2df344",
   "metadata": {
    "scrolled": false
   },
   "outputs": [
    {
     "data": {
      "text/plain": [
       "[['Le Comptoir de la Gastronomie', '1214', 4.5],\n",
       " ['Bistro des Augustins', '461', 4.5],\n",
       " ['L’Avant Comptoir', '643', 4.5],\n",
       " ['La Régalade', '95', 4.5],\n",
       " ['La Coïncidence', '507', 4.5],\n",
       " ['L’As du Fallafel', '1905', 4.5],\n",
       " ['Angelina', '1450', 4.0],\n",
       " ['Gambino', '223', 4.5],\n",
       " ['Baguett’s Café', '215', 4.5],\n",
       " ['Le Bistro du Périgord', '364', 4.5]]"
      ]
     },
     "execution_count": 25,
     "metadata": {},
     "output_type": "execute_result"
    }
   ],
   "source": [
    "data"
   ]
  },
  {
   "cell_type": "markdown",
   "id": "9dfc23b4",
   "metadata": {},
   "source": [
    "## create a dataframe from what we scrap of first result page"
   ]
  },
  {
   "cell_type": "code",
   "execution_count": 26,
   "id": "fb53f608",
   "metadata": {},
   "outputs": [],
   "source": [
    "df = pd.DataFrame(data, columns=['name', 'reviewcounts', 'stars_number'])"
   ]
  },
  {
   "cell_type": "code",
   "execution_count": 27,
   "id": "ac19522a",
   "metadata": {
    "scrolled": true
   },
   "outputs": [
    {
     "data": {
      "text/html": [
       "<div>\n",
       "<style scoped>\n",
       "    .dataframe tbody tr th:only-of-type {\n",
       "        vertical-align: middle;\n",
       "    }\n",
       "\n",
       "    .dataframe tbody tr th {\n",
       "        vertical-align: top;\n",
       "    }\n",
       "\n",
       "    .dataframe thead th {\n",
       "        text-align: right;\n",
       "    }\n",
       "</style>\n",
       "<table border=\"1\" class=\"dataframe\">\n",
       "  <thead>\n",
       "    <tr style=\"text-align: right;\">\n",
       "      <th></th>\n",
       "      <th>name</th>\n",
       "      <th>reviewcounts</th>\n",
       "      <th>stars_number</th>\n",
       "    </tr>\n",
       "  </thead>\n",
       "  <tbody>\n",
       "    <tr>\n",
       "      <th>0</th>\n",
       "      <td>Le Comptoir de la Gastronomie</td>\n",
       "      <td>1214</td>\n",
       "      <td>4.5</td>\n",
       "    </tr>\n",
       "    <tr>\n",
       "      <th>1</th>\n",
       "      <td>Bistro des Augustins</td>\n",
       "      <td>461</td>\n",
       "      <td>4.5</td>\n",
       "    </tr>\n",
       "    <tr>\n",
       "      <th>2</th>\n",
       "      <td>L’Avant Comptoir</td>\n",
       "      <td>643</td>\n",
       "      <td>4.5</td>\n",
       "    </tr>\n",
       "    <tr>\n",
       "      <th>3</th>\n",
       "      <td>La Régalade</td>\n",
       "      <td>95</td>\n",
       "      <td>4.5</td>\n",
       "    </tr>\n",
       "    <tr>\n",
       "      <th>4</th>\n",
       "      <td>La Coïncidence</td>\n",
       "      <td>507</td>\n",
       "      <td>4.5</td>\n",
       "    </tr>\n",
       "    <tr>\n",
       "      <th>5</th>\n",
       "      <td>L’As du Fallafel</td>\n",
       "      <td>1905</td>\n",
       "      <td>4.5</td>\n",
       "    </tr>\n",
       "    <tr>\n",
       "      <th>6</th>\n",
       "      <td>Angelina</td>\n",
       "      <td>1450</td>\n",
       "      <td>4.0</td>\n",
       "    </tr>\n",
       "    <tr>\n",
       "      <th>7</th>\n",
       "      <td>Gambino</td>\n",
       "      <td>223</td>\n",
       "      <td>4.5</td>\n",
       "    </tr>\n",
       "    <tr>\n",
       "      <th>8</th>\n",
       "      <td>Baguett’s Café</td>\n",
       "      <td>215</td>\n",
       "      <td>4.5</td>\n",
       "    </tr>\n",
       "    <tr>\n",
       "      <th>9</th>\n",
       "      <td>Le Bistro du Périgord</td>\n",
       "      <td>364</td>\n",
       "      <td>4.5</td>\n",
       "    </tr>\n",
       "  </tbody>\n",
       "</table>\n",
       "</div>"
      ],
      "text/plain": [
       "                            name reviewcounts  stars_number\n",
       "0  Le Comptoir de la Gastronomie         1214           4.5\n",
       "1           Bistro des Augustins          461           4.5\n",
       "2               L’Avant Comptoir          643           4.5\n",
       "3                    La Régalade           95           4.5\n",
       "4                 La Coïncidence          507           4.5\n",
       "5               L’As du Fallafel         1905           4.5\n",
       "6                       Angelina         1450           4.0\n",
       "7                        Gambino          223           4.5\n",
       "8                 Baguett’s Café          215           4.5\n",
       "9          Le Bistro du Périgord          364           4.5"
      ]
     },
     "execution_count": 27,
     "metadata": {},
     "output_type": "execute_result"
    }
   ],
   "source": [
    "df"
   ]
  },
  {
   "cell_type": "markdown",
   "id": "39740b8b",
   "metadata": {},
   "source": [
    "in first page all of restaraunts had starnumber 4.5 and it is not wrong value :)"
   ]
  },
  {
   "cell_type": "markdown",
   "id": "15895cd0",
   "metadata": {},
   "source": [
    "# all pages:"
   ]
  },
  {
   "cell_type": "markdown",
   "id": "2b3876e5",
   "metadata": {},
   "source": [
    "### a loop for get each restaurant name, review counts and stars and append it to a new dataframe"
   ]
  },
  {
   "cell_type": "code",
   "execution_count": 8,
   "id": "5b4c1117",
   "metadata": {},
   "outputs": [],
   "source": [
    "datahi = []"
   ]
  },
  {
   "cell_type": "code",
   "execution_count": 15,
   "id": "7bc64128",
   "metadata": {},
   "outputs": [
    {
     "name": "stdout",
     "output_type": "stream",
     "text": [
      "How long does it take to scrape the whole webpage? 730.899831533432 seconds\n"
     ]
    }
   ],
   "source": [
    "while True:\n",
    "    try:\n",
    "        allitems = driver.find_elements(By.XPATH, value=\"//div[@class=' container__09f24__mpR8_ hoverable__09f24__wQ_on  border-color--default__09f24__NPAKY']\")\n",
    "        for item in allitems:\n",
    "            try:\n",
    "                name_ = item.find_element(By.XPATH, value=\".//a[@class='css-1m051bw']\").text\n",
    "            except:\n",
    "                name_ = 'NULL'\n",
    "            try:\n",
    "                review_counts = item.find_element(By.XPATH, value=\".//span[@class=' css-chan6m']\").text\n",
    "            except:\n",
    "                review_counts = -1\n",
    "            try:\n",
    "                star = item.find_element(By.XPATH, value = './/div[@class=\" five-stars__09f24__mBKym five-stars--regular__09f24__DgBNj display--inline-block__09f24__fEDiJ  border-color--default__09f24__NPAKY\"]')\n",
    "                starsnumber = star.get_attribute('aria-label').split(' ')[0]\n",
    "            except:\n",
    "                starsnumber = -1\n",
    "                \n",
    "            datahi.append([name_, int(review_counts), float(starsnumber)])\n",
    "        nextpage = driver.find_element(By.XPATH, value='//a[@class=\"next-link navigation-button__09f24__m9qRz css-144i0wq\"]')\n",
    "        driver.execute_script(\"arguments[0].click();\", nextpage)\n",
    "        time.sleep(3)\n",
    "    except:\n",
    "        break\n",
    "print('How long does it take to scrape the whole webpage? {} seconds'.format(time.time() - start_time))\n"
   ]
  },
  {
   "cell_type": "code",
   "execution_count": 18,
   "id": "ed2d917d",
   "metadata": {
    "scrolled": true
   },
   "outputs": [
    {
     "data": {
      "text/plain": [
       "239"
      ]
     },
     "execution_count": 18,
     "metadata": {},
     "output_type": "execute_result"
    }
   ],
   "source": [
    "len(datahi)"
   ]
  },
  {
   "cell_type": "markdown",
   "id": "de6bcfcf",
   "metadata": {},
   "source": [
    "## crate a dataframe from what we find in 24 pages"
   ]
  },
  {
   "cell_type": "code",
   "execution_count": 20,
   "id": "e06fbbd1",
   "metadata": {},
   "outputs": [],
   "source": [
    "all_df = pd.DataFrame(datahi, columns=['Name', 'Review_Counts', 'Stars_Number'])"
   ]
  },
  {
   "cell_type": "code",
   "execution_count": 21,
   "id": "19e47860",
   "metadata": {},
   "outputs": [
    {
     "data": {
      "text/html": [
       "<div>\n",
       "<style scoped>\n",
       "    .dataframe tbody tr th:only-of-type {\n",
       "        vertical-align: middle;\n",
       "    }\n",
       "\n",
       "    .dataframe tbody tr th {\n",
       "        vertical-align: top;\n",
       "    }\n",
       "\n",
       "    .dataframe thead th {\n",
       "        text-align: right;\n",
       "    }\n",
       "</style>\n",
       "<table border=\"1\" class=\"dataframe\">\n",
       "  <thead>\n",
       "    <tr style=\"text-align: right;\">\n",
       "      <th></th>\n",
       "      <th>Name</th>\n",
       "      <th>Review_Counts</th>\n",
       "      <th>Stars_Number</th>\n",
       "    </tr>\n",
       "  </thead>\n",
       "  <tbody>\n",
       "    <tr>\n",
       "      <th>0</th>\n",
       "      <td>Le Comptoir de la Gastronomie</td>\n",
       "      <td>1214</td>\n",
       "      <td>4.5</td>\n",
       "    </tr>\n",
       "    <tr>\n",
       "      <th>1</th>\n",
       "      <td>Bistro des Augustins</td>\n",
       "      <td>461</td>\n",
       "      <td>4.5</td>\n",
       "    </tr>\n",
       "    <tr>\n",
       "      <th>2</th>\n",
       "      <td>L’Avant Comptoir</td>\n",
       "      <td>643</td>\n",
       "      <td>4.5</td>\n",
       "    </tr>\n",
       "    <tr>\n",
       "      <th>3</th>\n",
       "      <td>La Régalade</td>\n",
       "      <td>95</td>\n",
       "      <td>4.5</td>\n",
       "    </tr>\n",
       "    <tr>\n",
       "      <th>4</th>\n",
       "      <td>La Coïncidence</td>\n",
       "      <td>507</td>\n",
       "      <td>4.5</td>\n",
       "    </tr>\n",
       "    <tr>\n",
       "      <th>...</th>\n",
       "      <td>...</td>\n",
       "      <td>...</td>\n",
       "      <td>...</td>\n",
       "    </tr>\n",
       "    <tr>\n",
       "      <th>234</th>\n",
       "      <td>Café de l’Homme</td>\n",
       "      <td>101</td>\n",
       "      <td>3.5</td>\n",
       "    </tr>\n",
       "    <tr>\n",
       "      <th>235</th>\n",
       "      <td>Le Comptoir Colonial</td>\n",
       "      <td>2</td>\n",
       "      <td>5.0</td>\n",
       "    </tr>\n",
       "    <tr>\n",
       "      <th>236</th>\n",
       "      <td>L’Entente</td>\n",
       "      <td>16</td>\n",
       "      <td>4.0</td>\n",
       "    </tr>\n",
       "    <tr>\n",
       "      <th>237</th>\n",
       "      <td>Fermier Gourmet</td>\n",
       "      <td>32</td>\n",
       "      <td>4.5</td>\n",
       "    </tr>\n",
       "    <tr>\n",
       "      <th>238</th>\n",
       "      <td>Cocorico</td>\n",
       "      <td>43</td>\n",
       "      <td>4.5</td>\n",
       "    </tr>\n",
       "  </tbody>\n",
       "</table>\n",
       "<p>239 rows × 3 columns</p>\n",
       "</div>"
      ],
      "text/plain": [
       "                              Name  Review_Counts  Stars_Number\n",
       "0    Le Comptoir de la Gastronomie           1214           4.5\n",
       "1             Bistro des Augustins            461           4.5\n",
       "2                 L’Avant Comptoir            643           4.5\n",
       "3                      La Régalade             95           4.5\n",
       "4                   La Coïncidence            507           4.5\n",
       "..                             ...            ...           ...\n",
       "234                Café de l’Homme            101           3.5\n",
       "235           Le Comptoir Colonial              2           5.0\n",
       "236                      L’Entente             16           4.0\n",
       "237                Fermier Gourmet             32           4.5\n",
       "238                       Cocorico             43           4.5\n",
       "\n",
       "[239 rows x 3 columns]"
      ]
     },
     "execution_count": 21,
     "metadata": {},
     "output_type": "execute_result"
    }
   ],
   "source": [
    "all_df"
   ]
  }
 ],
 "metadata": {
  "kernelspec": {
   "display_name": "Python 3 (ipykernel)",
   "language": "python",
   "name": "python3"
  },
  "language_info": {
   "codemirror_mode": {
    "name": "ipython",
    "version": 3
   },
   "file_extension": ".py",
   "mimetype": "text/x-python",
   "name": "python",
   "nbconvert_exporter": "python",
   "pygments_lexer": "ipython3",
   "version": "3.9.7"
  }
 },
 "nbformat": 4,
 "nbformat_minor": 5
}
